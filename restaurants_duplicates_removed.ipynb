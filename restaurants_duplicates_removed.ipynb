{
 "cells": [
  {
   "cell_type": "code",
   "execution_count": 62,
   "metadata": {},
   "outputs": [],
   "source": [
    "import pandas as pd\n",
    "ch = pd.read_csv('./data/food_establishment_inspections.csv', engine='python')\n",
    "cleaned_data = ch.drop_duplicates(['facility', 'address', 'inspection_date'])"
   ]
  },
  {
   "cell_type": "code",
   "execution_count": 63,
   "metadata": {},
   "outputs": [],
   "source": [
    "inspection_counts_prelim = cleaned_data.groupby([\"address\", \"facility\"])"
   ]
  },
  {
   "cell_type": "code",
   "execution_count": 64,
   "metadata": {},
   "outputs": [],
   "source": [
    "inspection_counts = inspection_counts_prelim.size()"
   ]
  },
  {
   "cell_type": "code",
   "execution_count": 65,
   "metadata": {},
   "outputs": [
    {
     "data": {
      "text/plain": [
       "address                                       facility                            \n",
       "\"B\" CLUSTER,  GARDEN CITY                     CLUSTER B MARKETCAFE @ NCC               1\n",
       "#1 CHURCH STREET,  HYDE PARK                  MEALS ON WHEELS-HYDE PARK               25\n",
       "#1 OSCAWANA LAKE  ROAD,  PUTNAM VALLEY        WATSON'S RESTAURANT & BAR                2\n",
       "#2-20 RENSSELAER STREET,  ALBANY              WE DO FONDUE (MEALS ON WHEELS)           8\n",
       "#309 CLIFTON PARK CENTER ROAD,  CLIFTON PARK  STARBUCK'S COFFEE #7664                  1\n",
       "#36 AVENUE M,  MECHANICVILLE                  MALTA GARDENS SUMMER FEEDING PROGRAM     1\n",
       "#5 43 MALL,  W. SAND LAKE                     CROSSROADS AMERICAN GRILLE               4\n",
       "#C202 - 1 CROSSGATES MALL ROAD,  ALBANY       DUNKIN DONUTS (CROSSGATES)               5\n",
       ". JONES BEACH STATE PARK,  WANTAGH            JONES BEACH FIELD 6                      3\n",
       "0369 ROUTES 5 AND 20,  WATERLOO               PATSY'S DRIVE IN                        12\n",
       "0379  WATERLOO-GENEVA ROAD,  WATERLOO         PEPPY'S ICE CREAM                       12\n",
       "0446 WATERLOO GENEVA ROAD,  WATERLOO          MIKE SERVICE                             2\n",
       "1  CHAMPIONSHIP WAY,  WHITESBORO              TOWN OF WHITESTOWN                       1\n",
       "1  ELKS LANE,  SARATOGA SPRINGS               Gary Stevens LLC @ SAR/WILTON ELKS       9\n",
       "1  FERRIS HILLS,  CANANDAIGUA                 FERRIS HILLS AT WEST LAKE               18\n",
       "1  GARFIELD STREET,  WAVERLY                  PUDGIES PIZZA                           17\n",
       "1  GOODMAN  STREET,  GENEVA                   BOYS & GIRLS CLUB OF GENEVA              9\n",
       "1  HAMILTON  ROAD,  FAIRPORT NY               BATES RICH BEGINNINGS CHILDCARE          4\n",
       "1  HOMEWOOD  AVENUE,  NEWBURGH                D & D FOODS                              1\n",
       "1  Katz  ROAD,  Fallsburg                     YESHIVA & MESIVTA WIZNITZ               13\n",
       "dtype: int64"
      ]
     },
     "execution_count": 65,
     "metadata": {},
     "output_type": "execute_result"
    }
   ],
   "source": [
    "inspection_counts[:20]"
   ]
  },
  {
   "cell_type": "code",
   "execution_count": null,
   "metadata": {},
   "outputs": [],
   "source": []
  },
  {
   "cell_type": "code",
   "execution_count": 67,
   "metadata": {},
   "outputs": [],
   "source": [
    "inspection_counts_clean = inspection_counts[inspection_counts != 0]"
   ]
  },
  {
   "cell_type": "code",
   "execution_count": 68,
   "metadata": {
    "scrolled": true
   },
   "outputs": [
    {
     "name": "stdout",
     "output_type": "stream",
     "text": [
      "66.12561686104641\n",
      "11.026039455435736 148 1\n",
      "(35331,)\n"
     ]
    }
   ],
   "source": [
    "print(inspection_counts_clean.var())\n",
    "print(inspection_counts_clean.mean(), inspection_counts_clean.max(), inspection_counts_clean.min())\n",
    "print(inspection_counts_clean.shape)"
   ]
  },
  {
   "cell_type": "code",
   "execution_count": 69,
   "metadata": {},
   "outputs": [
    {
     "data": {
      "text/plain": [
       "<matplotlib.axes._subplots.AxesSubplot at 0x113ee3860>"
      ]
     },
     "execution_count": 69,
     "metadata": {},
     "output_type": "execute_result"
    },
    {
     "data": {
      "image/png": "[encoded data removed]",
      "text/plain": [
       "<matplotlib.figure.Figure at 0x113ee30b8>"
      ]
     },
     "metadata": {},
     "output_type": "display_data"
    }
   ],
   "source": [
    "capped_inspections = inspection_counts_clean.apply(lambda x: min(x, 50))\n",
    "capped_inspections.plot(kind='hist')"
   ]
  },
  {
   "cell_type": "code",
   "execution_count": 70,
   "metadata": {},
   "outputs": [
    {
     "data": {
      "text/plain": [
       "<matplotlib.axes._subplots.AxesSubplot at 0x113ee0c18>"
      ]
     },
     "execution_count": 70,
     "metadata": {},
     "output_type": "execute_result"
    },
    {
     "data": {
      "image/png": "[encoded data removed]",
      "text/plain": [
       "<matplotlib.figure.Figure at 0x113eefeb8>"
      ]
     },
     "metadata": {},
     "output_type": "display_data"
    }
   ],
   "source": [
    "inspection_counts_clean.plot(kind='hist')"
   ]
  },
  {
   "cell_type": "code",
   "execution_count": 89,
   "metadata": {},
   "outputs": [
    {
     "name": "stdout",
     "output_type": "stream",
     "text": [
      "got through the rows\n"
     ]
    }
   ],
   "source": [
    "precomp = {}\n",
    "\n",
    "axis_names = inspection_counts_clean.axes[0]\n",
    "\n",
    "for names, row_data in zip(axis_names, inspection_counts_clean):\n",
    "    precomp[names] = [0, 0, row_data]\n",
    "\n",
    "real_names = precomp.keys()\n",
    "\n",
    "for index, row in cleaned_data.iterrows():\n",
    "    row_key = (row[\"address\"], row[\"facility\"])\n",
    "    if row_key in real_names:\n",
    "        precomp[row_key][0] += row[\"num_critical\"]\n",
    "        precomp[row_key][1] += row[\"num_noncritical\"]\n",
    "\n",
    "print(\"got through the rows\")\n",
    "\n",
    "corr_df = pd.DataFrame(list(precomp.items()))"
   ]
  },
  {
   "cell_type": "code",
   "execution_count": 90,
   "metadata": {},
   "outputs": [
    {
     "data": {
      "text/html": [
       "<div>\n",
       "<style scoped>\n",
       "    .dataframe tbody tr th:only-of-type {\n",
       "        vertical-align: middle;\n",
       "    }\n",
       "\n",
       "    .dataframe tbody tr th {\n",
       "        vertical-align: top;\n",
       "    }\n",
       "\n",
       "    .dataframe thead th {\n",
       "        text-align: right;\n",
       "    }\n",
       "</style>\n",
       "<table border=\"1\" class=\"dataframe\">\n",
       "  <thead>\n",
       "    <tr style=\"text-align: right;\">\n",
       "      <th></th>\n",
       "      <th>0</th>\n",
       "      <th>1</th>\n",
       "    </tr>\n",
       "  </thead>\n",
       "  <tbody>\n",
       "    <tr>\n",
       "      <th>0</th>\n",
       "      <td>(\"B\" CLUSTER,  GARDEN CITY, CLUSTER B MARKETCA...</td>\n",
       "      <td>[2.0, 2.0, 1]</td>\n",
       "    </tr>\n",
       "    <tr>\n",
       "      <th>1</th>\n",
       "      <td>(#1 CHURCH STREET,  HYDE PARK, MEALS ON WHEELS...</td>\n",
       "      <td>[nan, nan, 25]</td>\n",
       "    </tr>\n",
       "    <tr>\n",
       "      <th>2</th>\n",
       "      <td>(#1 OSCAWANA LAKE  ROAD,  PUTNAM VALLEY, WATSO...</td>\n",
       "      <td>[0.0, 5.0, 2]</td>\n",
       "    </tr>\n",
       "    <tr>\n",
       "      <th>3</th>\n",
       "      <td>(#2-20 RENSSELAER STREET,  ALBANY, WE DO FONDU...</td>\n",
       "      <td>[0.0, 0.0, 8]</td>\n",
       "    </tr>\n",
       "    <tr>\n",
       "      <th>4</th>\n",
       "      <td>(#309 CLIFTON PARK CENTER ROAD,  CLIFTON PARK,...</td>\n",
       "      <td>[0.0, 4.0, 1]</td>\n",
       "    </tr>\n",
       "    <tr>\n",
       "      <th>5</th>\n",
       "      <td>(#36 AVENUE M,  MECHANICVILLE, MALTA GARDENS S...</td>\n",
       "      <td>[0.0, 0.0, 1]</td>\n",
       "    </tr>\n",
       "    <tr>\n",
       "      <th>6</th>\n",
       "      <td>(#5 43 MALL,  W. SAND LAKE, CROSSROADS AMERICA...</td>\n",
       "      <td>[4.0, 8.0, 4]</td>\n",
       "    </tr>\n",
       "    <tr>\n",
       "      <th>7</th>\n",
       "      <td>(#C202 - 1 CROSSGATES MALL ROAD,  ALBANY, DUNK...</td>\n",
       "      <td>[0.0, 3.0, 5]</td>\n",
       "    </tr>\n",
       "    <tr>\n",
       "      <th>8</th>\n",
       "      <td>(. JONES BEACH STATE PARK,  WANTAGH, JONES BEA...</td>\n",
       "      <td>[3.0, 6.0, 3]</td>\n",
       "    </tr>\n",
       "    <tr>\n",
       "      <th>9</th>\n",
       "      <td>(0369 ROUTES 5 AND 20,  WATERLOO, PATSY'S DRIV...</td>\n",
       "      <td>[nan, nan, 12]</td>\n",
       "    </tr>\n",
       "    <tr>\n",
       "      <th>10</th>\n",
       "      <td>(0379  WATERLOO-GENEVA ROAD,  WATERLOO, PEPPY'...</td>\n",
       "      <td>[nan, nan, 12]</td>\n",
       "    </tr>\n",
       "    <tr>\n",
       "      <th>11</th>\n",
       "      <td>(0446 WATERLOO GENEVA ROAD,  WATERLOO, MIKE SE...</td>\n",
       "      <td>[0.0, 0.0, 2]</td>\n",
       "    </tr>\n",
       "    <tr>\n",
       "      <th>12</th>\n",
       "      <td>(1  CHAMPIONSHIP WAY,  WHITESBORO, TOWN OF WHI...</td>\n",
       "      <td>[0.0, 0.0, 1]</td>\n",
       "    </tr>\n",
       "    <tr>\n",
       "      <th>13</th>\n",
       "      <td>(1  ELKS LANE,  SARATOGA SPRINGS, Gary Stevens...</td>\n",
       "      <td>[1.0, 21.0, 9]</td>\n",
       "    </tr>\n",
       "    <tr>\n",
       "      <th>14</th>\n",
       "      <td>(1  FERRIS HILLS,  CANANDAIGUA, FERRIS HILLS A...</td>\n",
       "      <td>[7.0, 42.0, 18]</td>\n",
       "    </tr>\n",
       "    <tr>\n",
       "      <th>15</th>\n",
       "      <td>(1  GARFIELD STREET,  WAVERLY, PUDGIES PIZZA  ...</td>\n",
       "      <td>[nan, nan, 17]</td>\n",
       "    </tr>\n",
       "    <tr>\n",
       "      <th>16</th>\n",
       "      <td>(1  GOODMAN  STREET,  GENEVA, BOYS &amp; GIRLS CLU...</td>\n",
       "      <td>[0.0, 0.0, 9]</td>\n",
       "    </tr>\n",
       "    <tr>\n",
       "      <th>17</th>\n",
       "      <td>(1  HAMILTON  ROAD,  FAIRPORT NY, BATES RICH B...</td>\n",
       "      <td>[3.0, 12.0, 4]</td>\n",
       "    </tr>\n",
       "    <tr>\n",
       "      <th>18</th>\n",
       "      <td>(1  HOMEWOOD  AVENUE,  NEWBURGH, D &amp; D FOODS  ...</td>\n",
       "      <td>[0.0, 0.0, 1]</td>\n",
       "    </tr>\n",
       "    <tr>\n",
       "      <th>19</th>\n",
       "      <td>(1  Katz  ROAD,  Fallsburg, YESHIVA &amp; MESIVTA ...</td>\n",
       "      <td>[nan, nan, 13]</td>\n",
       "    </tr>\n",
       "    <tr>\n",
       "      <th>20</th>\n",
       "      <td>(1  MUSTANG HILL,  MARCELLUS, Marcellus Senior...</td>\n",
       "      <td>[nan, nan, 24]</td>\n",
       "    </tr>\n",
       "  </tbody>\n",
       "</table>\n",
       "</div>"
      ],
      "text/plain": [
       "                                                    0                1\n",
       "0   (\"B\" CLUSTER,  GARDEN CITY, CLUSTER B MARKETCA...    [2.0, 2.0, 1]\n",
       "1   (#1 CHURCH STREET,  HYDE PARK, MEALS ON WHEELS...   [nan, nan, 25]\n",
       "2   (#1 OSCAWANA LAKE  ROAD,  PUTNAM VALLEY, WATSO...    [0.0, 5.0, 2]\n",
       "3   (#2-20 RENSSELAER STREET,  ALBANY, WE DO FONDU...    [0.0, 0.0, 8]\n",
       "4   (#309 CLIFTON PARK CENTER ROAD,  CLIFTON PARK,...    [0.0, 4.0, 1]\n",
       "5   (#36 AVENUE M,  MECHANICVILLE, MALTA GARDENS S...    [0.0, 0.0, 1]\n",
       "6   (#5 43 MALL,  W. SAND LAKE, CROSSROADS AMERICA...    [4.0, 8.0, 4]\n",
       "7   (#C202 - 1 CROSSGATES MALL ROAD,  ALBANY, DUNK...    [0.0, 3.0, 5]\n",
       "8   (. JONES BEACH STATE PARK,  WANTAGH, JONES BEA...    [3.0, 6.0, 3]\n",
       "9   (0369 ROUTES 5 AND 20,  WATERLOO, PATSY'S DRIV...   [nan, nan, 12]\n",
       "10  (0379  WATERLOO-GENEVA ROAD,  WATERLOO, PEPPY'...   [nan, nan, 12]\n",
       "11  (0446 WATERLOO GENEVA ROAD,  WATERLOO, MIKE SE...    [0.0, 0.0, 2]\n",
       "12  (1  CHAMPIONSHIP WAY,  WHITESBORO, TOWN OF WHI...    [0.0, 0.0, 1]\n",
       "13  (1  ELKS LANE,  SARATOGA SPRINGS, Gary Stevens...   [1.0, 21.0, 9]\n",
       "14  (1  FERRIS HILLS,  CANANDAIGUA, FERRIS HILLS A...  [7.0, 42.0, 18]\n",
       "15  (1  GARFIELD STREET,  WAVERLY, PUDGIES PIZZA  ...   [nan, nan, 17]\n",
       "16  (1  GOODMAN  STREET,  GENEVA, BOYS & GIRLS CLU...    [0.0, 0.0, 9]\n",
       "17  (1  HAMILTON  ROAD,  FAIRPORT NY, BATES RICH B...   [3.0, 12.0, 4]\n",
       "18  (1  HOMEWOOD  AVENUE,  NEWBURGH, D & D FOODS  ...    [0.0, 0.0, 1]\n",
       "19  (1  Katz  ROAD,  Fallsburg, YESHIVA & MESIVTA ...   [nan, nan, 13]\n",
       "20  (1  MUSTANG HILL,  MARCELLUS, Marcellus Senior...   [nan, nan, 24]"
      ]
     },
     "execution_count": 90,
     "metadata": {},
     "output_type": "execute_result"
    }
   ],
   "source": [
    "corr_df.loc[:20]"
   ]
  },
  {
   "cell_type": "code",
   "execution_count": null,
   "metadata": {},
   "outputs": [],
   "source": []
  }
 ],
 "metadata": {
  "kernelspec": {
   "display_name": "Python 3",
   "language": "python",
   "name": "python3"
  },
  "language_info": {
   "codemirror_mode": {
    "name": "ipython",
    "version": 3
   },
   "file_extension": ".py",
   "mimetype": "text/x-python",
   "name": "python",
   "nbconvert_exporter": "python",
   "pygments_lexer": "ipython3",
   "version": "3.6.4"
  }
 },
 "nbformat": 4,
 "nbformat_minor": 2
}
