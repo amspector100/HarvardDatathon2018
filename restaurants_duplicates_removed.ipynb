{
 "cells": [
  {
   "cell_type": "code",
   "execution_count": 1,
   "metadata": {},
   "outputs": [],
   "source": [
    "import pandas as pd\n",
    "ch = pd.read_csv('./data/food_establishment_inspections.csv', engine='python')\n",
    "cleaned_data = ch.drop_duplicates(['facility', 'address', 'inspection_date'])"
   ]
  },
  {
   "cell_type": "code",
   "execution_count": 2,
   "metadata": {},
   "outputs": [],
   "source": [
    "by_name = cleaned_data.groupby(\"facility\").count().drop(columns=['inspection_date', 'violation_item',\n",
    "       'violation_description', 'critical_violation', 'num_critical',\n",
    "       'num_critical_not_corrected', 'num_noncritical',\n",
    "       'local_health_department', 'county', 'facility_code', 'city', 'zipcode',\n",
    "       'municipality', 'permit_expiration_date', 'food_service_type',\n",
    "       'food_service_description', 'nys_inspection_id', 'inspection_type',\n",
    "       'inspection_comments', 'latitude', 'longitude', 'Unnamed: 23',\n",
    "       'Unnamed: 24'])"
   ]
  },
  {
   "cell_type": "code",
   "execution_count": 5,
   "metadata": {},
   "outputs": [
    {
     "name": "stdout",
     "output_type": "stream",
     "text": [
      "address    436.084436\n",
      "dtype: float64\n",
      "12.064073580873927\n"
     ]
    }
   ],
   "source": [
    "print(by_name.var())\n",
    "print(by_name[\"address\"].mean(), by_name[\"address\"].max()0"
   ]
  },
  {
   "cell_type": "code",
   "execution_count": null,
   "metadata": {},
   "outputs": [],
   "source": []
  }
 ],
 "metadata": {
  "kernelspec": {
   "display_name": "Python 3",
   "language": "python",
   "name": "python3"
  },
  "language_info": {
   "codemirror_mode": {
    "name": "ipython",
    "version": 3
   },
   "file_extension": ".py",
   "mimetype": "text/x-python",
   "name": "python",
   "nbconvert_exporter": "python",
   "pygments_lexer": "ipython3",
   "version": "3.6.4"
  }
 },
 "nbformat": 4,
 "nbformat_minor": 2
}
