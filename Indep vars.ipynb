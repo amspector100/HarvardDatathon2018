{
 "cells": [
  {
   "cell_type": "markdown",
   "metadata": {},
   "source": [
    "# Some Restaurant Data Manipulations"
   ]
  },
  {
   "cell_type": "code",
   "execution_count": null,
   "metadata": {},
   "outputs": [],
   "source": [
    "import pandas as pd\n",
    "import matplotlib"
   ]
  },
  {
   "cell_type": "code",
   "execution_count": null,
   "metadata": {},
   "outputs": [],
   "source": [
    "file_inspec = pd.read_csv(\"data/food_establishment_inspections.csv\", engine='python')"
   ]
  },
  {
   "cell_type": "code",
   "execution_count": null,
   "metadata": {},
   "outputs": [],
   "source": [
    "file_311 = pd.read_csv(\"data/311_service_requests.csv\", low_memory= False)"
   ]
  },
  {
   "cell_type": "code",
   "execution_count": null,
   "metadata": {},
   "outputs": [],
   "source": [
    "# Get # of different types of Food complaints\n",
    "complaint_types = file_311[\"complaint_type\"].unique()\n",
    "print(complaint_types)\n",
    "calorie_counts = file_311.loc[file_311['complaint_type'] == 'Calorie Labeling']\n",
    "print(calorie_counts.shape)\n",
    "food_est = file_311.loc[file_311['complaint_type'] == 'Food Establishment']\n",
    "print(food_est.shape)\n",
    "food_poi = file_311.loc[file_311['complaint_type'] == 'Food Poisoning']\n",
    "print(food_poi.shape)"
   ]
  },
  {
   "cell_type": "code",
   "execution_count": 116,
   "metadata": {
    "code_folding": [],
    "scrolled": false
   },
   "outputs": [
    {
     "name": "stdout",
     "output_type": "stream",
     "text": [
      "12780\n"
     ]
    }
   ],
   "source": [
    "# Count 311 complaints and food inspections for each restaurant\n",
    "def inspecKey(row):\n",
    "    return str(row['latitude']) + \",\" + str(row['longitude'])\n",
    "def estKey(row):\n",
    "    return str(row['latitude']) + \",\" + str(row['longitude'])\n",
    "\n",
    "restaurants = {} # Key = lat/long b/c unique for each restaurant\n",
    "\n",
    "# Count how many inspections each restaurant has had\n",
    "for index, row in file_inspec.iterrows():\n",
    "    key = inspecKey(row)\n",
    "    if key in restaurants:\n",
    "        restaurants[key]['inspec'] += 1\n",
    "    else:\n",
    "        restaurants[key] = { 'inspec' : 0, '311' : 0 }\n",
    "\n",
    "# Count how many 311's each restaurant has had\n",
    "overlapCount = 0\n",
    "for index, row in food_est.iterrows():\n",
    "    key = estKey(row)\n",
    "    if key in restaurants:\n",
    "        if restaurants[key]['311'] == 0:\n",
    "            overlapCount += 1\n",
    "        restaurants[key]['311'] += 1\n",
    "    else:\n",
    "        restaurants[key] = { 'inspec' : 0, '311' : 0 }\n",
    "\n",
    "print(overlapCount)"
   ]
  },
  {
   "cell_type": "markdown",
   "metadata": {},
   "source": [
    "# NTA Demographics"
   ]
  },
  {
   "cell_type": "code",
   "execution_count": null,
   "metadata": {},
   "outputs": [],
   "source": [
    "# Read demographics_city file (given by Citadel) + 4 ACS supplemental files\n",
    "file_nta_demo = pd.read_csv(\"data/demographics_city.csv\")\n",
    "supp_nta_demo = pd.read_excel(\"data/demographic_supp/nta_demo.xlsx\")\n",
    "supp_nta_econ = pd.read_excel(\"data/demographic_supp/nta_econ.xlsx\")\n",
    "supp_nta_hous = pd.read_excel(\"data/demographic_supp/nta_hous.xlsx\")\n",
    "supp_nta_soc = pd.read_excel(\"data/demographic_supp/nta_soc.xlsx\")"
   ]
  },
  {
   "cell_type": "code",
   "execution_count": null,
   "metadata": {},
   "outputs": [],
   "source": [
    "# There is a slight under-reporting of NTAs in the Citadel demographic file\n",
    "# So get list of NTAs present in ASC survey but not in demographics_city\n",
    "for index, row in supp_nta_demo.iterrows():\n",
    "    if row['GeoID'] not in file_nta_demo['nta_code'].tolist():\n",
    "        print(row['GeoID'])"
   ]
  },
  {
   "cell_type": "code",
   "execution_count": null,
   "metadata": {},
   "outputs": [],
   "source": [
    "# Merge together all dataframes with NTA data\n",
    "nta_merged = pd.merge(file_nta_demo, pd.merge(supp_nta_soc, pd.merge(pd.merge(supp_nta_econ, supp_nta_demo, on = 'GeoID'), supp_nta_hous, on = 'GeoID')), left_on = 'nta_code', right_on = 'GeoID', how='left')\n",
    "print(nta_merged.head())"
   ]
  },
  {
   "cell_type": "code",
   "execution_count": null,
   "metadata": {},
   "outputs": [],
   "source": [
    "# Determine most commonly used non-English languages by New Yorkers\n",
    "langs = ['Sp', 'Fr', 'FrC', 'It', 'Prt', 'Grm', 'Yid', 'OWG', 'Scd', 'Grk', 'Rus', 'Pol', 'SCr', 'OSv', 'Arm', 'Prs', 'Guj', 'Hdi', 'Urd', 'OIn', 'OIE', 'Chi', 'Jap', 'Kor', 'MKm', 'Hmg', 'Tha', 'Lao', 'Vie', 'OAn', 'Tag', 'OPI', 'Nav', 'ONA', 'Hng', 'Arb', 'Heb', 'Afr',]\n",
    "soc_langs = []\n",
    "for l in langs:\n",
    "    soc_langs.append({ 'lang' : l, 'val' : supp_nta_soc['Lg'+l+'LEP2E'].sum()})\n",
    "\n",
    "print(sorted(soc_langs, key= lambda x : x['val'], reverse = True))"
   ]
  },
  {
   "cell_type": "code",
   "execution_count": null,
   "metadata": {},
   "outputs": [],
   "source": [
    "# Store interesting NTA demographic data in dictionary\n",
    "nta_demographics = {}\n",
    "nta_demographics_dataframe_prototype = []\n",
    "for index, row in nta_merged.iterrows():\n",
    "    nta_demographics[row['nta_code']] = {\n",
    "        'pop' : row['population'],\n",
    "        'households' : row['households'],\n",
    "        'ages' : [ \n",
    "            row['under_5_years'], row['5-9_years'], row['10-14_years'], row['15-19_years'], row['20-24_years'], \n",
    "            row['25-29_years'], row['30-34_years'], row['35-39_years'], row['40-44_years'], row['45-49_years'], \n",
    "            row['50-54_years'], row['55-59_years'], row['60-64_years'], row['over_65_years'],\n",
    "        ],\n",
    "        'median_hh_income' : row['median_income'],\n",
    "        'hh_incomes' : [ # Number of house holds in given income bracket\n",
    "            row['less_than_10,000'], row['10000_to_14999'], row['15000_to_24999'], row['25000_to_34999'], \n",
    "            row['35000_to_49999'], row['50000_to_74999'], row['75000_to_99999'], row['100000_to_149999'], \n",
    "            row['150000_to_199999'], row['200000_or_more'],\n",
    "        ],\n",
    "        'below_poverty' : row['PBwPvE'], # Number of people living below poverty line\n",
    "        'education_level' : [ # 25+ years, highest level of education attained\n",
    "            int(row['EA_LTHSGrE']), # No high school\n",
    "            int(row['EA_HScGrdE']), # High school grad\n",
    "            int(row['EA_AscDE'])+int(row['EA_BchDE']) + int(row['EA_GrdPfDE']), # College/graduate degree\n",
    "        ],\n",
    "        'commute' : { # How ppl commute to work\n",
    "            'walk' : row['CW_WlkdE'],\n",
    "            'public' : row['CW_PbTrnsE'],\n",
    "            'car' : int(row['CW_CrpldE'])+int(row['CW_DrvAlnE']),\n",
    "        },\n",
    "        'health_insurance_coverage' : row['HInsE'], # Number of ppl with public or private health insurance\n",
    "        'disability' : row['CvNIDE'], # Number of ppl living with disability\n",
    "        'not_us_citizen' : row['FbNotCznE'], # Number of non-US citizens\n",
    "        'languages' : { # Number of ppl who speak each language and do not speak English \"very well\" - Note: These are the top 6 such languages in NYC\n",
    "            'spanish' : row['LgSpLEP2E'],\n",
    "            'chinese' : row['LgChiLEP2E'],\n",
    "            'russian' : row['LgRusLEP2E'],\n",
    "            'indic' : row['LgOInLEP2E'],\n",
    "            'french_creole' : row['LgFrCLEP2E'],\n",
    "            'korean' : row['LgKorLEP2E'],\n",
    "        },\n",
    "        'home_value' : [\n",
    "            row['VlU50E'], # <50k\n",
    "            row['Vl50t99E'], # 50-99k\n",
    "            row['Vl100t149E'], # 100-149k\n",
    "            row['Vl150t199E'], # 150-199k\n",
    "            row['Vl200t299E'], # 200-299k\n",
    "            row['Vl300t499E'], # 300-499k\n",
    "            row['Vl500t999E'], # 500-999k\n",
    "            row['Vl1milplE'], # 1M + \n",
    "        ],\n",
    "        'rent' : [\n",
    "            row['GRU500E'], # <500\n",
    "            row['GR500t999E'], # 500-999\n",
    "            row['GR1kt14kE'], # 1-1.5k\n",
    "            row['GR15kt19kE'], # 1.5-2k\n",
    "            row['GR20kt24kE'], # 2-2.5k\n",
    "            row['GR25kt29kE'], # 2.5-3k\n",
    "            row['GR3kplE'], # 3k+\n",
    "        ],\n",
    "        'average_hh_size' : row['AvgHHSzE'],\n",
    "    }\n",
    "    nta_demographics_dataframe_prototype.append([\n",
    "        row['nta_code'],\n",
    "        row['population'], row['households'],\n",
    "        row['under_5_years'], row['5-9_years'], row['10-14_years'], row['15-19_years'], row['20-24_years'], row['25-29_years'], row['30-34_years'], row['35-39_years'], row['40-44_years'], row['45-49_years'], row['50-54_years'], row['55-59_years'], row['60-64_years'], row['over_65_years'],\n",
    "        row['median_income'],\n",
    "        row['less_than_10,000'], row['10000_to_14999'], row['15000_to_24999'], row['25000_to_34999'], row['35000_to_49999'], row['50000_to_74999'], row['75000_to_99999'], row['100000_to_149999'], row['150000_to_199999'], row['200000_or_more'],\n",
    "        row['PBwPvE'],\n",
    "        row['EA_LTHSGrE'], row['EA_HScGrdE'], int(row['EA_AscDE'])+int(row['EA_BchDE']) + int(row['EA_GrdPfDE']),\n",
    "        row['CW_WlkdE'], row['CW_PbTrnsE'], int(row['CW_CrpldE'])+int(row['CW_DrvAlnE']),\n",
    "        row['HInsE'],\n",
    "        row['CvNIDE'],\n",
    "        row['FbNotCznE'],\n",
    "        row['LgSpLEP2E'], row['LgChiLEP2E'], row['LgRusLEP2E'], row['LgOInLEP2E'], row['LgFrCLEP2E'], row['LgKorLEP2E'],\n",
    "        row['VlU50E'], row['Vl50t99E'], row['Vl100t149E'], row['Vl150t199E'], row['Vl200t299E'], row['Vl300t499E'], row['Vl500t999E'], row['Vl1milplE'],\n",
    "        row['GRU500E'], row['GR500t999E'], row['GR1kt14kE'], row['GR15kt19kE'], row['GR20kt24kE'], row['GR25kt29kE'], row['GR3kplE'], row['AvgHHSzE'],\n",
    "    ])\n",
    "\n",
    "print(nta_demographics)"
   ]
  },
  {
   "cell_type": "code",
   "execution_count": 119,
   "metadata": {},
   "outputs": [
    {
     "name": "stdout",
     "output_type": "stream",
     "text": [
      "  nta_code    pop  households  age_less_5  age_5_to_9  age_10_to_14  \\\n",
      "0     BX31  28903        9587        1679        1706          1763   \n",
      "1     SI01  27770        9885        1397        1698          1817   \n",
      "2     SI48  25238        8960        1507        1540          1596   \n",
      "3     QN70  78793       34310        3480        3037          3060   \n",
      "4     QN48  19996        7122         917         966          1063   \n",
      "\n",
      "   age_15_to_19  age_20_to_24  age_25_to_29  age_30_to_34       ...         \\\n",
      "0          2039          1964          1703          1798       ...          \n",
      "1          1880          1720          1594          1487       ...          \n",
      "2          1752          1614          1561          1726       ...          \n",
      "3          3392          6630         11586          9252       ...          \n",
      "4          1168          1214          1307          1296       ...          \n",
      "\n",
      "   homeval_500_to_1m  homeval_1m_plus  rent_less_500  rent_500_to_1000  \\\n",
      "0               1644               85            597               692   \n",
      "1               4694              289             40               564   \n",
      "2               2583               51             23               313   \n",
      "3               2508              391           1818              3600   \n",
      "4               3694              240              4               131   \n",
      "\n",
      "   rent_1000_to_1500  rent_1500_to_2000  rent_2000_to_2500  rent_2500_to_3000  \\\n",
      "0               1314               1092                413                 42   \n",
      "1                473                173                177                 47   \n",
      "2                575                 81                109                  0   \n",
      "3               9067               9485               3421                665   \n",
      "4                686                854                292                 16   \n",
      "\n",
      "   rent_3000_plus  average_hh_size  \n",
      "0               0             3.26  \n",
      "1              31             2.85  \n",
      "2              59             2.91  \n",
      "3             331             2.25  \n",
      "4              52             2.97  \n",
      "\n",
      "[5 rows x 60 columns]\n"
     ]
    }
   ],
   "source": [
    "# NTA dictionary -> Pandas Dataframe\n",
    "nta_dataframe = pd.DataFrame(nta_demographics_dataframe_prototype,\n",
    "                                      columns = ['nta_code', 'pop', 'households', 'age_less_5', 'age_5_to_9', 'age_10_to_14', 'age_15_to_19', 'age_20_to_24', 'age_25_to_29', 'age_30_to_34', 'age_35_to_39', 'age_40_to_44', 'age_45_to_49', 'age_50_to_54', 'age_55_to_59', 'age_60_to_64', 'age_65_plus', 'median_hh_income', 'hh_income_less_10', 'hh_income_10_to_15', 'hh_income_15_to_25', 'hh_income_25_to_35', 'hh_income_35_to_50', 'hh_income_50_to_75', 'hh_income_75_to_100', 'hh_income_100_to_150', 'hh_income_150_to_200', 'hh_income_200_plus', 'below_poverty', 'edu_none', 'edu_high_school', 'edu_college', 'commute_walk', 'commute_public', 'commute_car', 'health_insurance_coverage', 'disability', 'not_us_citizen', 'lang_spanish', 'lang_chinese', 'lang_russian', 'lang_indic', 'lang_french_creole', 'lang_korean', 'homeval_less_50', 'homeval_50_to_100', 'homeval_100_to_150', 'homeval_150_to_200', 'homeval_200_to_300', 'homeval_300_to_500', 'homeval_500_to_1m', 'homeval_1m_plus', 'rent_less_500', 'rent_500_to_1000', 'rent_1000_to_1500', 'rent_1500_to_2000', 'rent_2000_to_2500', 'rent_2500_to_3000', 'rent_3000_plus', 'average_hh_size', ])\n",
    "print(nta_dataframe.head())\n",
    "\n",
    "nta_dataframe.to_csv('nta_data.csv')"
   ]
  },
  {
   "cell_type": "markdown",
   "metadata": {},
   "source": [
    "# County Demographics"
   ]
  },
  {
   "cell_type": "code",
   "execution_count": null,
   "metadata": {},
   "outputs": [],
   "source": [
    "# Read Citadel's demographic file + \n",
    "file_county_demo = pd.read_csv(\"data/demographics_state.csv\")\n",
    "# supp_county_demo = pd.read_excel(\"data/demographic_supp/county_demo.xlsx\")\n",
    "# supp_county_econ = pd.read_excel(\"data/demographic_supp/county_econ.xlsx\")\n",
    "# supp_county_hous = pd.read_excel(\"data/demographic_supp/county_hous.xlsx\")\n",
    "# supp_county_soc = pd.read_excel(\"data/demographic_supp/county_soc.xlsx\")"
   ]
  },
  {
   "cell_type": "code",
   "execution_count": null,
   "metadata": {},
   "outputs": [],
   "source": [
    "# Citadel reports years 2011-16\n",
    "# Filter file to only take data from the year 2016 (most recent data)\n",
    "file_county_demo = file_county_demo.loc[file_county_demo[\"year\"] == 2016]"
   ]
  },
  {
   "cell_type": "code",
   "execution_count": null,
   "metadata": {},
   "outputs": [],
   "source": [
    "# Merge together all dataframes with county data\n",
    "county_merged = file_county_demo\n",
    "# pd.merge(file_county_demo, pd.merge(supp_nta_soc, pd.merge(pd.merge(supp_nta_econ, supp_nta_demo, on = 'GeoID'), supp_nta_hous, on = 'GeoID')), left_on = 'nta_code', right_on = 'GeoID', how='left')\n",
    "# print(county_merged.head())"
   ]
  },
  {
   "cell_type": "code",
   "execution_count": 120,
   "metadata": {},
   "outputs": [
    {
     "name": "stdout",
     "output_type": "stream",
     "text": [
      "{'Albany County': {'pop': 304048.0, 'households': 124108, 'hh_incomes': {19466, 6285, 22510, 8093, 16017, 11507, 14900, 7606, 10845, 6879}, 'median_hh_income': 60904, 'mean_soc_sec_income': 19131, 'food_stamps': 14305, 'health_insurance_coverage': 287725.0}, 'Allegany County': {'pop': 47207.0, 'households': 18032, 'hh_incomes': {320, 3521, 1282, 2308, 2277, 1604, 1193, 3196, 221, 2110}, 'median_hh_income': 44085, 'mean_soc_sec_income': 17561, 'food_stamps': 2872, 'health_insurance_coverage': 43052.0}, 'Bronx County': {'pop': 1414859.0, 'households': 490740, 'hh_incomes': {12865, 9410, 76719, 44111, 74323, 40947, 45398, 65338, 66942, 54687}, 'median_hh_income': 35302, 'mean_soc_sec_income': 14211, 'food_stamps': 179811, 'health_insurance_coverage': 1240816.0}, 'Broome County': {'pop': 194413.0, 'households': 78738, 'hh_incomes': {9066, 4972, 8560, 11189, 6134, 2742, 9432, 14361, 2203, 10079}, 'median_hh_income': 47744, 'mean_soc_sec_income': 18249, 'food_stamps': 12867, 'health_insurance_coverage': 183183.0}, 'Cattaraugus County': {'pop': 77748.0, 'households': 31502, 'hh_incomes': {4040, 3562, 2224, 4272, 6134, 695, 3288, 4828, 381, 2078}, 'median_hh_income': 43884, 'mean_soc_sec_income': 17614, 'food_stamps': 5588, 'health_insurance_coverage': 70680.0}, 'Cayuga County': {'pop': 75490.0, 'households': 31039, 'hh_incomes': {1441, 3873, 1153, 668, 6474, 3243, 4266, 1837, 4696, 3388}, 'median_hh_income': 53114, 'mean_soc_sec_income': 18117, 'food_stamps': 3990, 'health_insurance_coverage': 69987.0}, 'Chautauqua County': {'pop': 129115.0, 'households': 52718, 'hh_incomes': {6183, 4904, 1227, 6256, 4465, 8305, 756, 9720, 3738, 7164}, 'median_hh_income': 43211, 'mean_soc_sec_income': 18130, 'food_stamps': 9948, 'health_insurance_coverage': 120020.0}, 'Chemung County': {'pop': 84179.0, 'households': 34887, 'hh_incomes': {955, 4230, 4686, 3598, 4080, 4466, 6739, 1307, 2172, 2654}, 'median_hh_income': 49578, 'mean_soc_sec_income': 17696, 'food_stamps': 5546, 'health_insurance_coverage': 78837.0}, 'Chenango County': {'pop': 48706.0, 'households': 19837, 'hh_incomes': {2432, 2145, 1314, 2723, 3943, 2162, 499, 279, 2904, 1436}, 'median_hh_income': 46979, 'mean_soc_sec_income': 17340, 'food_stamps': 3582, 'health_insurance_coverage': 45351.0}, 'Clinton County': {'pop': 76963.0, 'households': 31648, 'hh_incomes': {1861, 6219, 3310, 3822, 626, 3925, 1366, 2266, 4574, 3679}, 'median_hh_income': 50502, 'mean_soc_sec_income': 18305, 'food_stamps': 5760, 'health_insurance_coverage': 72684.0}, 'Columbia County': {'pop': 60143.0, 'households': 25295, 'hh_incomes': {3745, 1412, 3016, 1322, 1035, 4651, 3636, 1304, 2425, 2749}, 'median_hh_income': 59916, 'mean_soc_sec_income': 19176, 'food_stamps': 2696, 'health_insurance_coverage': 56490.0}, 'Cortland County': {'pop': 48238.0, 'households': 17683, 'hh_incomes': {2887, 2312, 1929, 809, 3437, 367, 1108, 1012, 1718, 2104}, 'median_hh_income': 50910, 'mean_soc_sec_income': 17854, 'food_stamps': 2471, 'health_insurance_coverage': 45411.0}, 'Delaware County': {'pop': 45975.0, 'households': 18817, 'hh_incomes': {1346, 296, 2313, 2698, 368, 2579, 3637, 2101, 2008, 1471}, 'median_hh_income': 46055, 'mean_soc_sec_income': 18201, 'food_stamps': 2905, 'health_insurance_coverage': 42293.0}, 'Dutchess County': {'pop': 288137.0, 'households': 106949, 'hh_incomes': {8544, 14914, 8166, 8103, 4235, 9327, 19732, 17910, 4471, 11547}, 'median_hh_income': 72706, 'mean_soc_sec_income': 20204, 'food_stamps': 10753, 'health_insurance_coverage': 269005.0}, 'Erie County': {'pop': 910418.0, 'households': 382822, 'hh_incomes': {52769, 31399, 17831, 13927, 21808, 41268, 49911, 49049, 67261, 37599}, 'median_hh_income': 52744, 'mean_soc_sec_income': 18288, 'food_stamps': 62448, 'health_insurance_coverage': 866423.0}, 'Essex County': {'pop': 36349.0, 'households': 15298, 'hh_incomes': {736, 866, 322, 1542, 1580, 2189, 3155, 1846, 2395, 667}, 'median_hh_income': 53244, 'mean_soc_sec_income': 18656, 'food_stamps': 1762, 'health_insurance_coverage': 33872.0}, 'Franklin County': {'pop': 46172.0, 'households': 19299, 'hh_incomes': {1282, 578, 2596, 2503, 1932, 431, 2000, 4022, 1879, 2076}, 'median_hh_income': 49782, 'mean_soc_sec_income': 18026, 'food_stamps': 3510, 'health_insurance_coverage': 42132.0}, 'Fulton County': {'pop': 53503.0, 'households': 22450, 'hh_incomes': {2531, 611, 440, 2919, 2313, 2795, 1613, 3578, 4312, 1338}, 'median_hh_income': 46090, 'mean_soc_sec_income': 17232, 'food_stamps': 3367, 'health_insurance_coverage': 48922.0}, 'Genesee County': {'pop': 58542.0, 'households': 23825, 'hh_incomes': {3586, 2340, 1318, 3247, 850, 1365, 3225, 410, 2621, 4863}, 'median_hh_income': 52641, 'mean_soc_sec_income': 18842, 'food_stamps': 2849, 'health_insurance_coverage': 54930.0}, 'Greene County': {'pop': 45128.0, 'households': 17125, 'hh_incomes': {2496, 705, 1733, 2056, 2089, 1040, 498, 2200, 3289, 1019}, 'median_hh_income': 51013, 'mean_soc_sec_income': 18794, 'food_stamps': 1453, 'health_insurance_coverage': 42119.0}, 'Hamilton County': {'pop': 4669.0, 'households': 1239, 'hh_incomes': {72, 296, 138, 76, 29, 147, 52, 117, 155, 157}, 'median_hh_income': 52708, 'mean_soc_sec_income': 19318, 'food_stamps': 103, 'health_insurance_coverage': 4222.0}, 'Herkimer County': {'pop': 62918.0, 'households': 25670, 'hh_incomes': {5258, 2731, 3340, 427, 1742, 2895, 1684, 2933, 633, 4027}, 'median_hh_income': 48893, 'mean_soc_sec_income': 17917, 'food_stamps': 4460, 'health_insurance_coverage': 58078.0}, 'Jefferson County': {'pop': 105638.0, 'households': 43428, 'hh_incomes': {7207, 2440, 4266, 4842, 2998, 1142, 5403, 8925, 862, 5343}, 'median_hh_income': 49911, 'mean_soc_sec_income': 17413, 'food_stamps': 7023, 'health_insurance_coverage': 97405.0}, 'Kings County': {'pop': 2596190.0, 'households': 938803, 'hh_incomes': {102273, 57889, 117284, 110186, 87051, 146420, 61462, 51032, 102042, 103164}, 'median_hh_income': 50640, 'mean_soc_sec_income': 15358, 'food_stamps': 224967, 'health_insurance_coverage': 2317645.0}, 'Lewis County': {'pop': 26714.0, 'households': 10307, 'hh_incomes': {577, 972, 1645, 238, 1266, 659, 1396, 306, 1303, 1945}, 'median_hh_income': 49976, 'mean_soc_sec_income': 17635, 'food_stamps': 1723, 'health_insurance_coverage': 24313.0}, 'Livingston County': {'pop': 62084.0, 'households': 24217, 'hh_incomes': {3720, 1323, 3438, 495, 4690, 722, 2325, 1462, 2620, 3422}, 'median_hh_income': 52724, 'mean_soc_sec_income': 18393, 'food_stamps': 3114, 'health_insurance_coverage': 58878.0}, 'Madison County': {'pop': 71502.0, 'households': 26121, 'hh_incomes': {5248, 3455, 2473, 3817, 3692, 1132, 2733, 887, 1053, 1631}, 'median_hh_income': 55858, 'mean_soc_sec_income': 18680, 'food_stamps': 3416, 'health_insurance_coverage': 67680.0}, 'Monroe County': {'pop': 742076.0, 'households': 300289, 'hh_incomes': {15618, 15210, 40911, 40946, 30900, 23030, 53591, 12376, 37596, 30111}, 'median_hh_income': 53568, 'mean_soc_sec_income': 19182, 'food_stamps': 44490, 'health_insurance_coverage': 703491.0}, 'Montgomery County': {'pop': 48884.0, 'households': 19540, 'hh_incomes': {2786, 2085, 518, 1354, 2026, 3566, 2931, 1591, 2365, 318}, 'median_hh_income': 44455, 'mean_soc_sec_income': 17355, 'food_stamps': 3887, 'health_insurance_coverage': 44599.0}, 'Nassau County': {'pop': 1346876.0, 'households': 440230, 'hh_incomes': {24036, 13030, 9832, 55656, 35151, 57488, 89684, 77946, 53371}, 'median_hh_income': 102044, 'mean_soc_sec_income': 21730, 'food_stamps': 22109, 'health_insurance_coverage': 1258454.0}, 'New York County': {'pop': 1624084.0, 'households': 753385, 'hh_incomes': {60098, 49157, 102917, 142277, 94632, 70834, 60822, 73110, 60184, 39354}, 'median_hh_income': 75513, 'mean_soc_sec_income': 17351, 'food_stamps': 103454, 'health_insurance_coverage': 1501342.0}, 'Niagara County': {'pop': 211319.0, 'households': 87638, 'hh_incomes': {6210, 1925, 3430, 12233, 5039, 11215, 11475, 9912, 15835, 10364}, 'median_hh_income': 50094, 'mean_soc_sec_income': 18774, 'food_stamps': 11508, 'health_insurance_coverage': 199815.0}, 'Oneida County': {'pop': 225239.0, 'households': 90260, 'hh_incomes': {6530, 2500, 10570, 12140, 5650, 10997, 10713, 3260, 17693, 10207}, 'median_hh_income': 49838, 'mean_soc_sec_income': 17396, 'food_stamps': 15827, 'health_insurance_coverage': 212646.0}, 'Onondaga County': {'pop': 462864.0, 'households': 184925, 'hh_incomes': {8034, 17958, 9734, 17194, 33965, 23309, 26526, 14388, 9595, 24222}, 'median_hh_income': 55717, 'mean_soc_sec_income': 18555, 'food_stamps': 26627, 'health_insurance_coverage': 436066.0}, 'Ontario County': {'pop': 108522.0, 'households': 44180, 'hh_incomes': {6784, 1924, 1926, 5927, 4369, 8529, 2227, 5879, 4856, 1759}, 'median_hh_income': 58070, 'mean_soc_sec_income': 19708, 'food_stamps': 4653, 'health_insurance_coverage': 102217.0}, 'Orange County': {'pop': 367037.0, 'households': 125144, 'hh_incomes': {6720, 10208, 13443, 16423, 9580, 8974, 4847, 24079, 19866, 11004}, 'median_hh_income': 71910, 'mean_soc_sec_income': 19247, 'food_stamps': 13941, 'health_insurance_coverage': 342018.0}, 'Orleans County': {'pop': 39187.0, 'households': 16132, 'hh_incomes': {1729, 2245, 1804, 1009, 3569, 273, 1812, 854, 2392, 445}, 'median_hh_income': 48731, 'mean_soc_sec_income': 17863, 'food_stamps': 2785, 'health_insurance_coverage': 36188.0}, 'Oswego County': {'pop': 119812.0, 'households': 45374, 'hh_incomes': {3264, 7105, 5006, 4913, 1425, 958, 2585, 5435, 8509, 6174}, 'median_hh_income': 49571, 'mean_soc_sec_income': 18569, 'food_stamps': 7923, 'health_insurance_coverage': 111358.0}, 'Otsego County': {'pop': 60310.0, 'households': 23539, 'hh_incomes': {4898, 2717, 2791, 872, 1641, 1364, 2548, 2683, 540, 3485}, 'median_hh_income': 49689, 'mean_soc_sec_income': 17907, 'food_stamps': 2621, 'health_insurance_coverage': 55942.0}, 'Putnam County': {'pop': 98778.0, 'households': 34102, 'hh_incomes': {7393, 4742, 2119, 4810, 2414, 4847, 1874, 4441, 762, 700}, 'median_hh_income': 97606, 'mean_soc_sec_income': 21737, 'food_stamps': 1327, 'health_insurance_coverage': 92339.0}, 'Queens County': {'pop': 2294929.0, 'households': 779304, 'hh_incomes': {101760, 38053, 117357, 95857, 34131, 139380, 75605, 51350, 71095, 54716}, 'median_hh_income': 59758, 'mean_soc_sec_income': 17096, 'food_stamps': 108512, 'health_insurance_coverage': 1976051.0}, 'Rensselaer County': {'pop': 158204.0, 'households': 63553, 'hh_incomes': {2400, 8933, 8102, 10629, 11595, 3372, 6036, 5493, 3094, 3899}, 'median_hh_income': 61754, 'mean_soc_sec_income': 18543, 'food_stamps': 7593, 'health_insurance_coverage': 149842.0}, 'Richmond County': {'pop': 469465.0, 'households': 166014, 'hh_incomes': {12966, 6215, 11208, 12687, 25169, 21431, 31929, 13279, 15675, 15455}, 'median_hh_income': 74021, 'mean_soc_sec_income': 19340, 'food_stamps': 20824, 'health_insurance_coverage': 438378.0}, 'Rockland County': {'pop': 320199.0, 'households': 99038, 'hh_incomes': {13602, 8905, 18537, 7659, 12141, 4018, 3954, 13203, 6173, 10846}, 'median_hh_income': 86134, 'mean_soc_sec_income': 21831, 'food_stamps': 11020, 'health_insurance_coverage': 294991.0}, 'St. Lawrence County': {'pop': 107906.0, 'households': 41466, 'hh_incomes': {5408, 1121, 5540, 8143, 3952, 2899, 4979, 949, 3389, 5086}, 'median_hh_income': 46313, 'mean_soc_sec_income': 17763, 'food_stamps': 7050, 'health_insurance_coverage': 98594.0}, 'Saratoga County': {'pop': 221645.0, 'households': 90896, 'hh_incomes': {16929, 2658, 7426, 5985, 13318, 6734, 10095, 6704, 18137, 2910}, 'median_hh_income': 74080, 'mean_soc_sec_income': 20113, 'food_stamps': 7152, 'health_insurance_coverage': 211950.0}, 'Schenectady County': {'pop': 153116.0, 'households': 55027, 'hh_incomes': {8480, 2980, 3174, 10045, 4910, 6901, 8086, 5239, 3133, 2079}, 'median_hh_income': 59959, 'mean_soc_sec_income': 18738, 'food_stamps': 7590, 'health_insurance_coverage': 144116.0}, 'Schoharie County': {'pop': 31594.0, 'households': 12373, 'hh_incomes': {1507, 1796, 811, 2348, 203, 496, 660, 1462, 1336, 1754}, 'median_hh_income': 50607, 'mean_soc_sec_income': 18461, 'food_stamps': 1548, 'health_insurance_coverage': 29702.0}, 'Schuyler County': {'pop': 18062.0, 'households': 7376, 'hh_incomes': {480, 937, 81, 882, 531, 1170, 1428, 179, 794, 894}, 'median_hh_income': 47229, 'mean_soc_sec_income': 18625, 'food_stamps': 979, 'health_insurance_coverage': 16520.0}, 'Seneca County': {'pop': 32261.0, 'households': 13672, 'hh_incomes': {1920, 460, 590, 1999, 847, 1713, 303, 2580, 1469, 1791}, 'median_hh_income': 50073, 'mean_soc_sec_income': 17608, 'food_stamps': 1686, 'health_insurance_coverage': 29139.0}, 'Steuben County': {'pop': 96973.0, 'households': 40438, 'hh_incomes': {4548, 4967, 5004, 978, 5812, 2613, 4661, 1273, 7962, 2620}, 'median_hh_income': 48823, 'mean_soc_sec_income': 18289, 'food_stamps': 5642, 'health_insurance_coverage': 89189.0}, 'Suffolk County': {'pop': 1483117.0, 'households': 489758, 'hh_incomes': {72192, 29763, 99758, 29839, 42739, 64319, 62198, 58107, 13372, 17471}, 'median_hh_income': 90128, 'mean_soc_sec_income': 20875, 'food_stamps': 32959, 'health_insurance_coverage': 1370555.0}, 'Sullivan County': {'pop': 73437.0, 'households': 28007, 'hh_incomes': {3360, 3265, 5479, 3688, 1001, 1260, 3438, 2009, 2973, 1534}, 'median_hh_income': 52027, 'mean_soc_sec_income': 18200, 'food_stamps': 3756, 'health_insurance_coverage': 66470.0}, 'Tioga County': {'pop': 49274.0, 'households': 19705, 'hh_incomes': {2219, 2508, 971, 1038, 2095, 2958, 779, 3955, 2262, 920}, 'median_hh_income': 58115, 'mean_soc_sec_income': 19735, 'food_stamps': 2828, 'health_insurance_coverage': 46219.0}, 'Tompkins County': {'pop': 103385.0, 'households': 38269, 'hh_incomes': {3393, 3650, 6824, 4717, 4333, 4660, 4085, 2264, 2105, 2238}, 'median_hh_income': 54133, 'mean_soc_sec_income': 19675, 'food_stamps': 3628, 'health_insurance_coverage': 97936.0}, 'Ulster County': {'pop': 176129.0, 'households': 69335, 'hh_incomes': {7747, 4231, 10730, 8983, 3535, 3729, 12477, 6840, 7194, 3869}, 'median_hh_income': 60393, 'mean_soc_sec_income': 18496, 'food_stamps': 7892, 'health_insurance_coverage': 161407.0}, 'Warren County': {'pop': 64348.0, 'households': 26944, 'hh_incomes': {964, 3847, 2696, 1392, 2352, 1682, 1234, 3734, 3608, 5435}, 'median_hh_income': 57174, 'mean_soc_sec_income': 19305, 'food_stamps': 3217, 'health_insurance_coverage': 59964.0}, 'Washington County': {'pop': 59457.0, 'households': 24027, 'hh_incomes': {3234, 2787, 484, 1323, 3981, 1198, 4975, 880, 2420, 2745}, 'median_hh_income': 51449, 'mean_soc_sec_income': 18902, 'food_stamps': 3517, 'health_insurance_coverage': 54637.0}, 'Wayne County': {'pop': 90882.0, 'households': 36576, 'hh_incomes': {7393, 4547, 1797, 1353, 4977, 5427, 761, 1753, 3738, 4830}, 'median_hh_income': 51627, 'mean_soc_sec_income': 19301, 'food_stamps': 4269, 'health_insurance_coverage': 84544.0}, 'Westchester County': {'pop': 956762.0, 'households': 341762, 'hh_incomes': {11493, 24197, 46088, 30410, 56108, 22509, 34062, 62642, 17716, 36537}, 'median_hh_income': 86226, 'mean_soc_sec_income': 21020, 'food_stamps': 29540, 'health_insurance_coverage': 871693.0}, 'Wyoming County': {'pop': 37655.0, 'households': 15780, 'hh_incomes': {2337, 741, 205, 784, 1681, 1777, 432, 3638, 2362, 1823}, 'median_hh_income': 53612, 'mean_soc_sec_income': 18211, 'food_stamps': 1638, 'health_insurance_coverage': 35451.0}, 'Yates County': {'pop': 24747.0, 'households': 9532, 'hh_incomes': {320, 1699, 1349, 1257, 1131, 596, 1013, 1212, 413, 542}, 'median_hh_income': 50105, 'mean_soc_sec_income': 18454, 'food_stamps': 1153, 'health_insurance_coverage': 19515.0}}\n"
     ]
    }
   ],
   "source": [
    "# Store interesting county demographic data in dictionary\n",
    "county_demographics = {}\n",
    "county_demographics_pandas_prototype = []\n",
    "for index, row in county_merged.iterrows():\n",
    "    county = row['geography']\n",
    "    if county == \"New York\": \n",
    "        continue # Skip state info\n",
    "    else: \n",
    "        county = county.replace(\", New York\", \"\") # Remove \", New York\" from county name\n",
    "    county_demographics[county] = {\n",
    "        'pop': row['population'],\n",
    "        'households' : row['total_households'],\n",
    "        'hh_incomes' : {\n",
    "            row['$9,999_or_less'], row['$10,000_to_$14,999'], row['$15,000_to_$24,999'], \n",
    "            row['$25,000_to_$34,999'], row['$35,000_to_$49,999'], row['$50,000_to_$74,999'],\n",
    "            row['$75,000_to_$99,999'], row['$100,000_to_$150,000'], row['$150,000_to_$199,999'], \n",
    "            row['$200,000_or_more'],\n",
    "        },\n",
    "        'median_hh_income' : row['median_household_income'],\n",
    "        'mean_soc_sec_income' : row['mean_soc_sec'], # Mean Social Security income\n",
    "        'food_stamps' : row['food_stamp_benefits'], # Total SNAP benefits\n",
    "        'health_insurance_coverage' : row['pop_w_health_insurance'],\n",
    "    \n",
    "    \n",
    "    }\n",
    "    county_demographics_pandas_prototype.append([\n",
    "        county,\n",
    "        row['population'],\n",
    "        row['total_households'],\n",
    "        row['$9,999_or_less'], row['$10,000_to_$14,999'], row['$15,000_to_$24,999'], \n",
    "        row['$25,000_to_$34,999'], row['$35,000_to_$49,999'], row['$50,000_to_$74,999'],\n",
    "        row['$75,000_to_$99,999'], row['$100,000_to_$150,000'], row['$150,000_to_$199,999'], \n",
    "        row['$200,000_or_more'],\n",
    "        row['median_household_income'],\n",
    "        row['mean_soc_sec'],\n",
    "        row['food_stamp_benefits'],\n",
    "        row['pop_w_health_insurance'],\n",
    "    ])\n",
    "\n",
    "print(county_demographics)"
   ]
  },
  {
   "cell_type": "code",
   "execution_count": 121,
   "metadata": {},
   "outputs": [
    {
     "name": "stdout",
     "output_type": "stream",
     "text": [
      "          county_name  population  total_households  hh_income_less_10  \\\n",
      "0       Albany County    304048.0            124108               7606   \n",
      "1     Allegany County     47207.0             18032               1282   \n",
      "2        Bronx County   1414859.0            490740              76719   \n",
      "3       Broome County    194413.0             78738               6134   \n",
      "4  Cattaraugus County     77748.0             31502               2078   \n",
      "\n",
      "   hh_income_10_to_15  hh_income_15_to_25  hh_income_25_to_35  \\\n",
      "0                6285               11507               10845   \n",
      "1                1193                2308                2110   \n",
      "2               45398               66942               54687   \n",
      "3                4972               10079                8560   \n",
      "4                2224                4272                4040   \n",
      "\n",
      "   hh_income_35_to_50  hh_income_50_to_75  hh_income_75_to_100  \\\n",
      "0               14900               22510                16017   \n",
      "1                3196                3521                 2277   \n",
      "2               65338               74323                44111   \n",
      "3               11189               14361                 9432   \n",
      "4                4828                6134                 3562   \n",
      "\n",
      "   hh_income_100_to_150  hh_income_150_to_200  hh_income_200_plus  \\\n",
      "0                 19466                  8093                6879   \n",
      "1                  1604                   320                 221   \n",
      "2                 40947                 12865                9410   \n",
      "3                  9066                  2742                2203   \n",
      "4                  3288                   695                 381   \n",
      "\n",
      "   median_household_income  mean_soc_sec  food_stamp_benefits  \\\n",
      "0                    60904         19131                14305   \n",
      "1                    44085         17561                 2872   \n",
      "2                    35302         14211               179811   \n",
      "3                    47744         18249                12867   \n",
      "4                    43884         17614                 5588   \n",
      "\n",
      "   pop_w_health_insurance  \n",
      "0                287725.0  \n",
      "1                 43052.0  \n",
      "2               1240816.0  \n",
      "3                183183.0  \n",
      "4                 70680.0  \n"
     ]
    }
   ],
   "source": [
    "# County dictionary -> Pandas Dataframe\n",
    "county_dataframe = pd.DataFrame(county_demographics_pandas_prototype,\n",
    "                                      columns = ['county_name', 'population', 'total_households', 'hh_income_less_10', 'hh_income_10_to_15', 'hh_income_15_to_25', 'hh_income_25_to_35', 'hh_income_35_to_50', 'hh_income_50_to_75', 'hh_income_75_to_100', 'hh_income_100_to_150', 'hh_income_150_to_200', 'hh_income_200_plus', 'median_household_income', 'mean_soc_sec', 'food_stamp_benefits', 'pop_w_health_insurance',])\n",
    "print(county_dataframe.head())\n",
    "county_dataframe.to_csv('county_data.csv')"
   ]
  },
  {
   "cell_type": "markdown",
   "metadata": {},
   "source": [
    "# Brainstorming\n",
    "\n",
    "Variable (file:column) POSITIVE/NEGATIVE Correlation - Rationale\n",
    "\n",
    "- Demographics\n",
    "    - Number of people (demographics_city:population) NEGATIVE - more people needing service means higher prioritization, 311 system more used to deploying in these areas\n",
    "    - Population density (demographics_city:people_per_acre), NEGATIVE - more people means higher prioritization, denser areas in city are wealthier, more bang for buck in terms of resource allocation when servicing denser rather than sparse areas \n",
    "    - Median age (demographics_city:median_age)\n",
    "    - Median income (demographics_city:median_income)\n",
    "    - 5-yr age brackets (demographics_city:age_brackets)\n",
    "    - Distribution of HH income (demographics_city:income_range), NEGATIVE - higher incomes get more gov service\n",
    "\n",
    "\n",
    "Cleaning the supp files:\n",
    "    - Note that there were 7 NTAs present in the ACS 2016 dataset for NYC that weren't present in the demographics_city.csv file. Looking at a map of NYC's NTAs, the blocks were: BX99 (\"parks, cemeteries, etc.\" in the Bronx), BX98 (Riker's Island), MN99 (\"parks, cemeteries, etc.\" in Manhattan), QN98 (\"airports\"), QN99 (\"parks, cemeteries, etc.\" in Queens), and SI99 (\"parks, cemeteries, etc.\" in Staten Island)"
   ]
  },
  {
   "cell_type": "code",
   "execution_count": null,
   "metadata": {},
   "outputs": [],
   "source": []
  }
 ],
 "metadata": {
  "kernelspec": {
   "display_name": "Python 3",
   "language": "python",
   "name": "python3"
  },
  "language_info": {
   "codemirror_mode": {
    "name": "ipython",
    "version": 3
   },
   "file_extension": ".py",
   "mimetype": "text/x-python",
   "name": "python",
   "nbconvert_exporter": "python",
   "pygments_lexer": "ipython3",
   "version": "3.6.5"
  }
 },
 "nbformat": 4,
 "nbformat_minor": 2
}
