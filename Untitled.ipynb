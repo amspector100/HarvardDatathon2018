{
 "cells": [
  {
   "cell_type": "code",
   "execution_count": 1,
   "metadata": {},
   "outputs": [],
   "source": [
    "import numpy as np\n",
    "import pandas as pd"
   ]
  },
  {
   "cell_type": "code",
   "execution_count": 2,
   "metadata": {},
   "outputs": [],
   "source": [
    "output_path='data/cleaned/inspection_ratio.csv'\n",
    "cleaned_path='data/cleaned/cleaned_inspections.csv'"
   ]
  },
  {
   "cell_type": "code",
   "execution_count": 3,
   "metadata": {},
   "outputs": [],
   "source": [
    "data_311_fpath = 'data/cleaned/cleaned_311.csv'\n",
    "data_311 = pd.read_csv(data_311_fpath)"
   ]
  },
  {
   "cell_type": "code",
   "execution_count": 4,
   "metadata": {},
   "outputs": [],
   "source": [
    "fpath =\"./data/res_better.csv\""
   ]
  },
  {
   "cell_type": "code",
   "execution_count": 5,
   "metadata": {},
   "outputs": [
    {
     "name": "stdout",
     "output_type": "stream",
     "text": [
      "read in data\n",
      "evaluated zip calls\n"
     ]
    }
   ],
   "source": [
    "data = pd.read_csv(fpath, engine='python')\n",
    "nyc_zip_set = {10001.0, 10002.0, 10003.0, 10004.0, 10005.0, 10006.0, 10007.0, 10009.0, 10010.0, 10011.0, 10012.0, 10013.0, 10014.0, 10016.0, 10017.0, 10018.0, 10019.0, 10020.0, 10021.0, 10022.0, 10023.0, 10024.0, 10025.0, 10026.0, 10027.0, 10028.0, 10029.0, 10030.0, 10031.0, 10032.0, 10033.0, 10034.0, 10035.0, 10036.0, 10037.0, 10038.0, 10039.0, 10040.0, 10044.0, 10065.0, 10069.0, 10075.0, 10103.0, 10110.0, 10111.0, 10112.0, 10115.0, 10119.0, 10128.0, 10153.0, 10154.0, 10165.0, 10167.0, 10168.0, 10169.0, 10170.0, 10171.0, 10172.0, 10173.0, 10174.0, 10177.0, 10271.0, 10279.0, 10280.0, 10282.0}\n",
    "cleaned_data = data.loc[data[\"ZIPCODE\"].isin(nyc_zip_set)]\n",
    "final_data = cleaned_data.drop_duplicates(['CAMIS', 'GRADE DATE'])\n",
    "\n",
    "print(\"read in data\")\n",
    "\n",
    "inspection_cnt = final_data.groupby('ZIPCODE').count()\n",
    "\n",
    "zip_calls = {}\n",
    "axis_names = inspection_cnt.axes[0]\n",
    "for zipcode in axis_names:\n",
    "\tzip_calls[zipcode] = 0\n",
    "valid_zips = zip_calls.keys()\n",
    "\n",
    "print(\"evaluated zip calls\")"
   ]
  },
  {
   "cell_type": "code",
   "execution_count": 6,
   "metadata": {},
   "outputs": [],
   "source": [
    "calls_cnt = data_311.groupby(\"incident_zip\").count()"
   ]
  },
  {
   "cell_type": "code",
   "execution_count": 7,
   "metadata": {},
   "outputs": [
    {
     "name": "stdout",
     "output_type": "stream",
     "text": [
      "{10001.0: 0, 10002.0: 0, 10003.0: 0, 10004.0: 0, 10005.0: 0, 10006.0: 0, 10007.0: 0, 10009.0: 0, 10010.0: 0, 10011.0: 0, 10012.0: 0, 10013.0: 0, 10014.0: 0, 10016.0: 0, 10017.0: 0, 10018.0: 0, 10019.0: 0, 10020.0: 0, 10021.0: 0, 10022.0: 0, 10023.0: 0, 10024.0: 0, 10025.0: 0, 10026.0: 0, 10027.0: 0, 10028.0: 0, 10029.0: 0, 10030.0: 0, 10031.0: 0, 10032.0: 0, 10033.0: 0, 10034.0: 0, 10035.0: 0, 10036.0: 0, 10037.0: 0, 10038.0: 0, 10039.0: 0, 10040.0: 0, 10044.0: 0, 10065.0: 0, 10069.0: 0, 10075.0: 0, 10103.0: 0, 10110.0: 0, 10111.0: 0, 10112.0: 0, 10115.0: 0, 10119.0: 0, 10128.0: 0, 10153.0: 0, 10154.0: 0, 10165.0: 0, 10167.0: 0, 10168.0: 0, 10169.0: 0, 10170.0: 0, 10171.0: 0, 10172.0: 0, 10173.0: 0, 10174.0: 0, 10177.0: 0, 10271.0: 0, 10279.0: 0, 10280.0: 0, 10282.0: 0}\n"
     ]
    }
   ],
   "source": [
    "print(zip_calls)"
   ]
  },
  {
   "cell_type": "code",
   "execution_count": 8,
   "metadata": {},
   "outputs": [],
   "source": [
    "for zipcode, row_data in zip(calls_cnt.axes[0], calls_cnt.iterrows()):\n",
    "    if zipcode in valid_zips:\n",
    "        zip_calls[zipcode] += row_data[1]['unique_key']"
   ]
  },
  {
   "cell_type": "code",
   "execution_count": 9,
   "metadata": {},
   "outputs": [
    {
     "data": {
      "text/plain": [
       "{10001.0: 8951,\n",
       " 10002.0: 11788,\n",
       " 10003.0: 12437,\n",
       " 10004.0: 1380,\n",
       " 10005.0: 915,\n",
       " 10006.0: 739,\n",
       " 10007.0: 2635,\n",
       " 10009.0: 9975,\n",
       " 10010.0: 6125,\n",
       " 10011.0: 12187,\n",
       " 10012.0: 7411,\n",
       " 10013.0: 9355,\n",
       " 10014.0: 8313,\n",
       " 10016.0: 9876,\n",
       " 10017.0: 4613,\n",
       " 10018.0: 5029,\n",
       " 10019.0: 10590,\n",
       " 10020.0: 243,\n",
       " 10021.0: 5106,\n",
       " 10022.0: 7702,\n",
       " 10023.0: 8122,\n",
       " 10024.0: 9373,\n",
       " 10025.0: 14470,\n",
       " 10026.0: 7239,\n",
       " 10027.0: 10752,\n",
       " 10028.0: 6232,\n",
       " 10029.0: 10440,\n",
       " 10030.0: 4784,\n",
       " 10031.0: 14171,\n",
       " 10032.0: 10870,\n",
       " 10033.0: 10291,\n",
       " 10034.0: 8750,\n",
       " 10035.0: 6435,\n",
       " 10036.0: 8653,\n",
       " 10037.0: 2631,\n",
       " 10038.0: 3458,\n",
       " 10039.0: 2661,\n",
       " 10040.0: 10535,\n",
       " 10044.0: 298,\n",
       " 10065.0: 4906,\n",
       " 10069.0: 291,\n",
       " 10075.0: 3461,\n",
       " 10103.0: 28,\n",
       " 10110.0: 3,\n",
       " 10111.0: 16,\n",
       " 10112.0: 61,\n",
       " 10115.0: 3,\n",
       " 10119.0: 48,\n",
       " 10128.0: 7359,\n",
       " 10153.0: 10,\n",
       " 10154.0: 1,\n",
       " 10165.0: 5,\n",
       " 10167.0: 3,\n",
       " 10168.0: 7,\n",
       " 10169.0: 9,\n",
       " 10170.0: 4,\n",
       " 10171.0: 2,\n",
       " 10172.0: 1,\n",
       " 10173.0: 0,\n",
       " 10174.0: 1,\n",
       " 10177.0: 1,\n",
       " 10271.0: 5,\n",
       " 10279.0: 10,\n",
       " 10280.0: 386,\n",
       " 10282.0: 156}"
      ]
     },
     "execution_count": 9,
     "metadata": {},
     "output_type": "execute_result"
    }
   ],
   "source": [
    "zip_calls"
   ]
  },
  {
   "cell_type": "code",
   "execution_count": 12,
   "metadata": {},
   "outputs": [
    {
     "name": "stdout",
     "output_type": "stream",
     "text": [
      "10001.0\n",
      "0.20679253714668752\n"
     ]
    }
   ],
   "source": [
    "for zipcode, row_data in zip(axis_names, inspection_cnt.iterrows()):\n",
    "    if zip_calls[zipcode] == 0:\n",
    "        zip_calls[zipcode] == None:\n",
    "    else:\n",
    "        zip_calls[zipcode] = row_data[1][\"RECORD DATE\"] / zip_calls[zipcode]"
   ]
  },
  {
   "cell_type": "code",
   "execution_count": 25,
   "metadata": {},
   "outputs": [
    {
     "name": "stderr",
     "output_type": "stream",
     "text": [
      "/Users/alechin/anaconda3/lib/python3.6/site-packages/pandas/core/series.py:2890: FutureWarning: from_csv is deprecated. Please use read_csv(...) instead. Note that some of the default arguments are different, so please refer to the documentation for from_csv when changing your function calls\n",
      "  infer_datetime_format=infer_datetime_format)\n"
     ]
    }
   ],
   "source": [
    "x = pd.Series.from_csv('data/cleaned/inspection_ratio.csv')"
   ]
  },
  {
   "cell_type": "code",
   "execution_count": 26,
   "metadata": {},
   "outputs": [
    {
     "data": {
      "text/plain": [
       "pandas.core.series.Series"
      ]
     },
     "execution_count": 26,
     "metadata": {},
     "output_type": "execute_result"
    }
   ],
   "source": [
    "type(x)"
   ]
  },
  {
   "cell_type": "code",
   "execution_count": 27,
   "metadata": {},
   "outputs": [
    {
     "data": {
      "text/plain": [
       "<matplotlib.axes._subplots.AxesSubplot at 0x10a2ac080>"
      ]
     },
     "execution_count": 27,
     "metadata": {},
     "output_type": "execute_result"
    },
    {
     "data": {
      "image/png": "[encoded data removed]",
      "text/plain": [
       "<matplotlib.figure.Figure at 0x10c821748>"
      ]
     },
     "metadata": {},
     "output_type": "display_data"
    }
   ],
   "source": [
    "x.plot(kind=\"hist\")"
   ]
  },
  {
   "cell_type": "code",
   "execution_count": 30,
   "metadata": {},
   "outputs": [
    {
     "data": {
      "text/plain": [
       "(65,)"
      ]
     },
     "execution_count": 30,
     "metadata": {},
     "output_type": "execute_result"
    }
   ],
   "source": [
    "x.shape"
   ]
  },
  {
   "cell_type": "code",
   "execution_count": null,
   "metadata": {},
   "outputs": [],
   "source": []
  },
  {
   "cell_type": "code",
   "execution_count": null,
   "metadata": {},
   "outputs": [],
   "source": []
  }
 ],
 "metadata": {
  "kernelspec": {
   "display_name": "Python 3",
   "language": "python",
   "name": "python3"
  },
  "language_info": {
   "codemirror_mode": {
    "name": "ipython",
    "version": 3
   },
   "file_extension": ".py",
   "mimetype": "text/x-python",
   "name": "python",
   "nbconvert_exporter": "python",
   "pygments_lexer": "ipython3",
   "version": "3.6.4"
  }
 },
 "nbformat": 4,
 "nbformat_minor": 2
}
