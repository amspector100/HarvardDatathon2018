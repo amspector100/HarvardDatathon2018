{
 "cells": [
  {
   "cell_type": "code",
   "execution_count": 1,
   "metadata": {},
   "outputs": [
    {
     "data": {
      "text/html": [
       "<iframe src=\"https://amspector100.github.io/HarvardDatathon2018/interactive.html\" width=100% height=700px></iframe>"
      ],
      "text/plain": [
       "<IPython.core.display.HTML object>"
      ]
     },
     "metadata": {},
     "output_type": "display_data"
    }
   ],
   "source": [
    "from IPython.core.display import display, HTML\n",
    "display(HTML('<iframe src=\"https://amspector100.github.io/HarvardDatathon2018/interactive.html\" width=100% height=700px></iframe>'))"
   ]
  },
  {
   "attachments": {},
   "cell_type": "markdown",
   "metadata": {},
   "source": [
    "# Executive Summary\n",
    "\n",
    "## Background\n",
    "\n",
    "A government ought to promote the welfare of its constituents by equitably providing services regardless of race, socioeconomic status, and geographic location. The most obvious way a government can accomplish this is by promoting public health and safety. One way policymakers have attempted to achieve this is by passing initiatives at the national, state, and local level to better understand and address the impact of environmental factors on living conditions, with the hope that improving a person's surroundings will also improve that person's sense of well being.\n",
    "\n",
    "Several studies, however, have indicated that this idealism does not reflect the reality of how government services are allocated. For example, a [2016 study of Boston](http://www.andrewbenjaminhall.com/Feigenbaum_Hall_Boston.pdf) found that higher-income areas request and receive more government services than lower-income areas. And in New York City (NYC) [the outcome of a call to 911](https://www.nytimes.com/2002/05/05/nyregion/the-911-call-who-responds.html) depends heavily on the location of the call.\n",
    "\n",
    "\n",
    "## Question: How do Demographic Factors Affect the Responsiveness of New York City in Delivering Food Safety-Related Services?\n",
    "\n",
    "This report builds on the findings of the aforementioned studies by quantifying how demographic factors influence the frequency and speed at which the NYC municipal government responds to health-related service requests. Specifically, we examine health outcomes through the lens of food safety/restaurants, and built a model to investigate how the demographics of an area (age, ethnicity, income, etc.) affect the turnaround speed and methods taken to resolve these complaints.\n",
    "\n",
    "## Significance\n",
    "\n",
    "Government responsiveness is essential for safeguarding community health and ensuring that the initiatives endorsed by policymakers and the public are actually enacted. Thus, investigating whether NYC is equitably implementing services it has promised to deliver is of critical importance and can help policymakers pinpoint areas for improvement.\n",
    "\n",
    "\n",
    "# Step 1: Data Cleaning\n",
    "\n",
    "The first task our team set out to do was clean the data sets and select features. The team chose to work with four of the provided data sets--**The 311 Service Requests**, **The Food Service Inspection**, and both the **State Demographics** and the **City Demographics**--along with additional demographics data from external services. The process of cleaning each data set is detailed below.\n",
    "\n",
    "## 311 Service Requests\n",
    "\n",
    "There were 44 distinct \"categories\" of 311 service requests in our dataset, for a total of 1,535,870 unique requests. However, not all of these categories were relevant to our analysis. Many didn't have enough data to carry sufficient stastical significance -- 28 of the categories had less than 1,000 data points, collectively making up 0.14% of our dataset. \n",
    "\n",
    "And because our analysis is predicated on the assumption that the government wants to respond to all requests as fast as possible (and thus a longer response time is the direct result of deprioritizing a request), we needed to filter out categories in which a request was not severe enough to merit rapid government response, i.e. a 311 service operator could in good faith delay resolution of a request because it was not particuarly urgent other more severe matters needed her finite attention. Upon inspection, many categories of 311 requests did not seem of sufficient severity to merit analysis.\n",
    "\n",
    "To address both of these issues, we plotted the count of the number of requests for every category and manually assessed the severity of each request. We settled on examining the following categories for their combination of urgency and sufficient request volume: . We decided to ignore \"Food Poisoning\", \"Food Establishment\" and \"Smoking\"  because ___.\n",
    "\n",
    "![title](images/311categories.png)\n",
    "\n",
    "\n",
    "\n",
    "## Food Service Inspection\n",
    "\n",
    "The feature that Team 19 wanted to extract from the **food service inspection** data set was to count the number of investigations (along with other key information such as critical and noncritical errors) for each food service entity. As such, the main manipulation that needed to be made ot the food data set was duplicate removal. It was initially assumed that the facility\\_code variable could be used as a unique identifier for accumulating statistics for various restaurants, but \n",
    "\n",
    "## Community Health Outcomes\n",
    "\n",
    "## Demographics"
   ]
  },
  {
   "cell_type": "markdown",
   "metadata": {},
   "source": []
  }
 ],
 "metadata": {
  "kernelspec": {
   "display_name": "Python 3",
   "language": "python",
   "name": "python3"
  },
  "language_info": {
   "codemirror_mode": {
    "name": "ipython",
    "version": 3
   },
   "file_extension": ".py",
   "mimetype": "text/x-python",
   "name": "python",
   "nbconvert_exporter": "python",
   "pygments_lexer": "ipython3",
   "version": "3.6.5"
  }
 },
 "nbformat": 4,
 "nbformat_minor": 2
}
