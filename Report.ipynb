{
 "cells": [
  {
   "cell_type": "code",
   "execution_count": 7,
   "metadata": {},
   "outputs": [
    {
     "data": {
      "text/html": [
       "<iframe src=\"./plots/interactive.html\" width=100% height=700px></iframe>"
      ],
      "text/plain": [
       "<IPython.core.display.HTML object>"
      ]
     },
     "metadata": {},
     "output_type": "display_data"
    }
   ],
   "source": [
    "from IPython.core.display import display, HTML\n",
    "display(HTML('<iframe src=\"./plots/interactive.html\" width=100% height=700px></iframe>'))"
   ]
  },
  {
   "cell_type": "markdown",
   "metadata": {},
   "source": [
    "# The Question: How do Environmental and Demographic Factors Influence the Distribution of Governmental Services?\n",
    "\n",
    "\n",
    "\n",
    "# Step 1: Data Cleaning\n",
    "\n",
    "The first task our team set out to do was clean the data sets and select features. The team chose to work with four of the provided data sets--**The 311 Service Requests**, **The Food Service Inspection**, and both the **State Demographics** and the **City Demographics**--along with additional demographics data from external services. The process of cleaning each data set is detailed below.\n",
    "\n",
    "## 311 Service Requests\n",
    "\n",
    "## Food Service Inspection\n",
    "\n",
    "## Community Health Outcomes\n",
    "\n",
    "## Demographics"
   ]
  },
  {
   "cell_type": "markdown",
   "metadata": {},
   "source": []
  }
 ],
 "metadata": {
  "kernelspec": {
   "display_name": "Python 3",
   "language": "python",
   "name": "python3"
  },
  "language_info": {
   "codemirror_mode": {
    "name": "ipython",
    "version": 3
   },
   "file_extension": ".py",
   "mimetype": "text/x-python",
   "name": "python",
   "nbconvert_exporter": "python",
   "pygments_lexer": "ipython3",
   "version": "3.6.4"
  }
 },
 "nbformat": 4,
 "nbformat_minor": 2
}
