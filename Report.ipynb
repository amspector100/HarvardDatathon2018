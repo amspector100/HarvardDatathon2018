{
 "cells": [
  {
   "cell_type": "code",
   "execution_count": 10,
   "metadata": {},
   "outputs": [
    {
     "data": {
      "text/html": [
       "<iframe src=\"https://amspector100.github.io/HarvardDatathon2018/interactive.html\" width=100% height=700px></iframe>"
      ],
      "text/plain": [
       "<IPython.core.display.HTML object>"
      ]
     },
     "metadata": {},
     "output_type": "display_data"
    }
   ],
   "source": [
    "from IPython.core.display import display, HTML\n",
    "display(HTML('<iframe src=\"https://amspector100.github.io/HarvardDatathon2018/interactive.html\" width=100% height=700px></iframe>'))"
   ]
  },
  {
   "cell_type": "markdown",
   "metadata": {},
   "source": [
    "# The Question: How do Environmental and Demographic Factors Influence the Distribution of Health-Related Governmental Services?\n",
    "\n",
    "Government services ought to be provided equally accross the the divisions of race, socioeconomic status, and geographic location, but there is a generally accepted notion that the these services are much more available in select regions. Team 19 has put together a report analyzing how often and quickly the government responds to service requests through the lens of health issues in the restaurant space. More specificlaly, our model investigates how demographic features affect how likely it is and how long it takes for governmental invesigation to follow a complaint. For example, if food poisoning reports are submitted through the 311 hotline, does geography and demographics affect if the government responds by investigating food service providers in the area?\n",
    "\n",
    "Since governmental programs and responses are often critical to enforcement and good community health, investigating this question is of paramount importance. It informs us of the relative efficacy of food service inspections in properly responding to and mitigating the health risks they are designed to prevent.\n",
    "\n",
    "# Step 1: Data Cleaning\n",
    "\n",
    "The first task our team set out to do was clean the data sets and select features. The team chose to work with four of the provided data sets--**The 311 Service Requests**, **The Food Service Inspection**, and both the **State Demographics** and the **City Demographics**--along with additional demographics data from external services. The process of cleaning each data set is detailed below.\n",
    "\n",
    "## 311 Service Requests\n",
    "\n",
    "## Food Service Inspection\n",
    "\n",
    "The feature that Team 19 wanted to extract from the **food service inspection** data set was to count the number of investigations (along with other key information such as critical and noncritical errors) for each food service entity. As such, the main manipulation that needed to be made ot the food data set was duplicate removal. It was initially assumed that the facility\\_code variable could be used as a unique identifier for accumulating statistics for various restaurants, but \n",
    "\n",
    "## Community Health Outcomes\n",
    "\n",
    "## Demographics"
   ]
  },
  {
   "cell_type": "markdown",
   "metadata": {},
   "source": []
  }
 ],
 "metadata": {
  "kernelspec": {
   "display_name": "Python 3",
   "language": "python",
   "name": "python3"
  },
  "language_info": {
   "codemirror_mode": {
    "name": "ipython",
    "version": 3
   },
   "file_extension": ".py",
   "mimetype": "text/x-python",
   "name": "python",
   "nbconvert_exporter": "python",
   "pygments_lexer": "ipython3",
   "version": "3.6.4"
  }
 },
 "nbformat": 4,
 "nbformat_minor": 2
}
